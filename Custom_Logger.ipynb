{
  "nbformat": 4,
  "nbformat_minor": 0,
  "metadata": {
    "colab": {
      "provenance": []
    },
    "kernelspec": {
      "name": "python3",
      "display_name": "Python 3"
    },
    "language_info": {
      "name": "python"
    }
  },
  "cells": [
    {
      "cell_type": "markdown",
      "source": [
        "# Set Up / Initialise PySpark"
      ],
      "metadata": {
        "id": "IHJHImDLT3Nk"
      }
    },
    {
      "cell_type": "code",
      "source": [
        "!apt-get install openjdk-8-jdk-headless -qq > /dev/null\n",
        "!wget -q http://archive.apache.org/dist/spark/spark-3.1.1/spark-3.1.1-bin-hadoop3.2.tgz\n",
        "!tar xf spark-3.1.1-bin-hadoop3.2.tgz\n",
        "!pip install -q findspark"
      ],
      "metadata": {
        "id": "j6RnXvJt781O"
      },
      "execution_count": 1,
      "outputs": []
    },
    {
      "cell_type": "code",
      "source": [
        "import findspark\n",
        "import os\n",
        "import sys\n",
        "\n",
        "os.environ[\"JAVA_HOME\"] = \"/usr/lib/jvm/java-8-openjdk-amd64\"\n",
        "os.environ[\"SPARK_HOME\"] = \"/content/spark-3.1.1-bin-hadoop3.2\"\n",
        "\n",
        "findspark.init()"
      ],
      "metadata": {
        "id": "So-Qv8Vq3zks"
      },
      "execution_count": 2,
      "outputs": []
    },
    {
      "cell_type": "markdown",
      "source": [
        "# Create a Custom Logger class\n",
        "\n",
        "### Methods:\n",
        "- \\_\\_init\\_\\_ : lets the logger class initialize the log entry attribute\n",
        "- log_commit : commits the log into a text file\n",
        "- log_print : Same as the python print fuction but, also writes to log file\n",
        "- log_printSchema : Same as the pyspark printSchema function but, also writes to log file\n",
        "- log_show : Same as the pyspark show function but, also writes to log file\n"
      ],
      "metadata": {
        "id": "DOxrkf7fUOkf"
      }
    },
    {
      "cell_type": "code",
      "execution_count": 3,
      "metadata": {
        "id": "a6pCzh8lWqAZ"
      },
      "outputs": [],
      "source": [
        "class Logger:\n",
        "  def __init__(self):\n",
        "    self.log_entry = \"\"\n",
        "    self.f_buff = None\n",
        "\n",
        "  def log_commit(self, log_name):\n",
        "    f_name = log_name.split('.')[0]\n",
        "\n",
        "    if f_name != self.f_buff:\n",
        "      self.dup_no = 0\n",
        "      self.f_buff = f_name\n",
        "      f_name = f_name + '.txt'\n",
        "    else:\n",
        "      f_name = f_name + '_' + str(self.dup_no) + '.txt'\n",
        "\n",
        "    f = open(f_name, 'w')\n",
        "    f.write(self.log_entry)\n",
        "    f.close()\n",
        "\n",
        "    self.log_entry = \"\"\n",
        "    self.dup_no += 1\n",
        "\n",
        "  def log_print(self, *log_str_tuple):\n",
        "    log_str = \"\"\n",
        "    for tuple_item in log_str_tuple:\n",
        "      log_str = log_str + \" \" + str(tuple_item)\n",
        "    log_str = log_str + \"\\n\"\n",
        "\n",
        "    self.log_entry = self.log_entry + log_str\n",
        "    sys.stdout.write(log_str)\n",
        "\n",
        "  def log_printSchema(self, dataframe):\n",
        "    log_str = dataframe._jdf.schema().treeString()\n",
        "    self.log_print(log_str)\n",
        "\n",
        "  def log_show(self, dataframe, rows = 2, truncate = True):\n",
        "    if truncate:\n",
        "      truncate = 10\n",
        "    else:\n",
        "      truncate = 0\n",
        "    log_str = dataframe._jdf.showString(rows, truncate, False)\n",
        "    self.log_print(log_str)"
      ]
    },
    {
      "cell_type": "code",
      "source": [
        "from pyspark.sql import SparkSession\n",
        "\n",
        "spark = SparkSession.builder.master('local[1]') \\\n",
        "                    .appName('custom_logger') \\\n",
        "                    .getOrCreate()\n",
        "\n",
        "columns = [\"language\", \"fee\"]\n",
        "data = [(\"Java\", 20000), (\"Python\", 10000), (\"Scala\", 10000)]\n",
        "\n",
        "df = spark.createDataFrame(data).toDF(*columns)"
      ],
      "metadata": {
        "id": "KZCcghxX6wWH"
      },
      "execution_count": 4,
      "outputs": []
    },
    {
      "cell_type": "code",
      "source": [
        "logger = Logger()"
      ],
      "metadata": {
        "id": "PkSaVN8adNHp"
      },
      "execution_count": 5,
      "outputs": []
    },
    {
      "cell_type": "code",
      "source": [
        "logger.log_print('This is a print statement')\n",
        "logger.log_print('This', 'is', 'another')"
      ],
      "metadata": {
        "colab": {
          "base_uri": "https://localhost:8080/"
        },
        "id": "NBHpJBNhdhfh",
        "outputId": "4091b4ff-9d97-425e-94a1-226c1e2d10a0"
      },
      "execution_count": 6,
      "outputs": [
        {
          "output_type": "stream",
          "name": "stdout",
          "text": [
            " This is a print statement\n",
            " This is another\n"
          ]
        }
      ]
    },
    {
      "cell_type": "code",
      "source": [
        "logger.log_print('===== Printing the schema of a dataframe =====')\n",
        "logger.log_printSchema(df)"
      ],
      "metadata": {
        "colab": {
          "base_uri": "https://localhost:8080/"
        },
        "id": "chk5C_wXd4fD",
        "outputId": "3f5b1aae-bdce-4ae2-d034-1b7e43ffc201"
      },
      "execution_count": 7,
      "outputs": [
        {
          "output_type": "stream",
          "name": "stdout",
          "text": [
            " ===== Printing the schema of a dataframe =====\n",
            " root\n",
            " |-- language: string (nullable = true)\n",
            " |-- fee: long (nullable = true)\n",
            "\n"
          ]
        }
      ]
    },
    {
      "cell_type": "code",
      "source": [
        "logger.log_print('===== Printing a few rows of a dataframe =====')\n",
        "logger.log_show(df)\n",
        "\n",
        "logger.log_print('===== Printing selected rows and disabling truncation of data in a dataframe =====')\n",
        "logger.log_show(df, 3, False)"
      ],
      "metadata": {
        "colab": {
          "base_uri": "https://localhost:8080/"
        },
        "id": "dl1fY06GeQUb",
        "outputId": "72dbbbe4-2536-4f4d-e0c4-87e51e953ba7"
      },
      "execution_count": 8,
      "outputs": [
        {
          "output_type": "stream",
          "name": "stdout",
          "text": [
            " ===== Printing a few rows of a dataframe =====\n",
            " +--------+-----+\n",
            "|language|  fee|\n",
            "+--------+-----+\n",
            "|    Java|20000|\n",
            "|  Python|10000|\n",
            "+--------+-----+\n",
            "only showing top 2 rows\n",
            "\n",
            " ===== Printing selected rows and disabling truncation of data in a dataframe =====\n",
            " +--------+-----+\n",
            "|language|fee  |\n",
            "+--------+-----+\n",
            "|Java    |20000|\n",
            "|Python  |10000|\n",
            "|Scala   |10000|\n",
            "+--------+-----+\n",
            "\n"
          ]
        }
      ]
    },
    {
      "cell_type": "code",
      "source": [
        "logger.log_commit('log')"
      ],
      "metadata": {
        "id": "xRPkqCp7huOp"
      },
      "execution_count": 9,
      "outputs": []
    },
    {
      "cell_type": "code",
      "source": [
        "logger.log_print('Creating a new log with the same name')\n",
        "logger.log_commit('log')"
      ],
      "metadata": {
        "id": "kfAEjGrszFAL",
        "colab": {
          "base_uri": "https://localhost:8080/"
        },
        "outputId": "f44a0035-0a5a-4b78-a170-8e66302a68f8"
      },
      "execution_count": 10,
      "outputs": [
        {
          "output_type": "stream",
          "name": "stdout",
          "text": [
            " Creating a new log with the same name\n"
          ]
        }
      ]
    },
    {
      "cell_type": "code",
      "source": [
        "logger.log_print('Creating a new log with a different name')\n",
        "logger.log_commit('new_log')"
      ],
      "metadata": {
        "colab": {
          "base_uri": "https://localhost:8080/"
        },
        "id": "zCiECCrSlVOI",
        "outputId": "ab7807d4-92ea-4ea8-8c2f-baa64d1e661b"
      },
      "execution_count": 11,
      "outputs": [
        {
          "output_type": "stream",
          "name": "stdout",
          "text": [
            " Creating a new log with a different name\n"
          ]
        }
      ]
    }
  ]
}